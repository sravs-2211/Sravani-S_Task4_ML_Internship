{
  "nbformat": 4,
  "nbformat_minor": 0,
  "metadata": {
    "colab": {
      "provenance": [],
      "authorship_tag": "ABX9TyNgH3wLeYJSxrNiRUxwV39T",
      "include_colab_link": true
    },
    "kernelspec": {
      "name": "python3",
      "display_name": "Python 3"
    },
    "language_info": {
      "name": "python"
    }
  },
  "cells": [
    {
      "cell_type": "markdown",
      "metadata": {
        "id": "view-in-github",
        "colab_type": "text"
      },
      "source": [
        "<a href=\"https://colab.research.google.com/github/sravs-2211/Sravani-S_Task4_ML_Internship/blob/main/sub2.ipynb\" target=\"_parent\"><img src=\"https://colab.research.google.com/assets/colab-badge.svg\" alt=\"Open In Colab\"/></a>"
      ]
    },
    {
      "cell_type": "code",
      "execution_count": 1,
      "metadata": {
        "colab": {
          "base_uri": "https://localhost:8080/"
        },
        "id": "PzcNKJ17u5uB",
        "outputId": "9f3eadbf-bed0-4e6d-8fdb-2e56b61199e2"
      },
      "outputs": [
        {
          "output_type": "stream",
          "name": "stdout",
          "text": [
            "LR — Acc: 0.7951, AUC: 0.8790, Time: 0.02s\n"
          ]
        }
      ],
      "source": [
        "import pandas as pd\n",
        "from sklearn.model_selection import train_test_split\n",
        "from sklearn.preprocessing import StandardScaler, OneHotEncoder\n",
        "from sklearn.linear_model import LogisticRegression\n",
        "from sklearn.ensemble import RandomForestClassifier\n",
        "from sklearn.metrics import accuracy_score, roc_auc_score\n",
        "import time\n",
        "\n",
        "df = pd.read_csv('/content/archive (3).zip')\n",
        "X = df.drop('target', axis=1)\n",
        "y = df['target']\n",
        "\n",
        "X_encoded = pd.get_dummies(X, drop_first=True)\n",
        "scaler = StandardScaler()\n",
        "X_scaled = scaler.fit_transform(X_encoded)\n",
        "\n",
        "X_train, X_test, y_train, y_test = train_test_split(\n",
        "    X_scaled, y, test_size=0.2, random_state=42)\n",
        "\n",
        "lr = LogisticRegression(max_iter=1000)\n",
        "t0 = time.time()\n",
        "lr.fit(X_train, y_train)\n",
        "t1 = time.time()\n",
        "y_pred = lr.predict(X_test)\n",
        "y_prob = lr.predict_proba(X_test)[:,1]\n",
        "acc = accuracy_score(y_test, y_pred)\n",
        "roc = roc_auc_score(y_test, y_prob)\n",
        "print(f\"LR — Acc: {acc:.4f}, AUC: {roc:.4f}, Time: {t1-t0:.2f}s\")"
      ]
    }
  ]
}