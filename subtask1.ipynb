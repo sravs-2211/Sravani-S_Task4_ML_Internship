{
  "nbformat": 4,
  "nbformat_minor": 0,
  "metadata": {
    "colab": {
      "provenance": [],
      "authorship_tag": "ABX9TyNcORWjKGfDaSBnFn7n0kx/",
      "include_colab_link": true
    },
    "kernelspec": {
      "name": "python3",
      "display_name": "Python 3"
    },
    "language_info": {
      "name": "python"
    }
  },
  "cells": [
    {
      "cell_type": "markdown",
      "metadata": {
        "id": "view-in-github",
        "colab_type": "text"
      },
      "source": [
        "<a href=\"https://colab.research.google.com/github/sravs-2211/Sravani-S_Task4_ML_Internship/blob/main/subtask1.ipynb\" target=\"_parent\"><img src=\"https://colab.research.google.com/assets/colab-badge.svg\" alt=\"Open In Colab\"/></a>"
      ]
    },
    {
      "cell_type": "code",
      "execution_count": 1,
      "metadata": {
        "colab": {
          "base_uri": "https://localhost:8080/"
        },
        "id": "isI6u9PypdO1",
        "outputId": "4916c3e1-c35f-4257-9ba4-40a86eae5b67"
      },
      "outputs": [
        {
          "output_type": "stream",
          "name": "stdout",
          "text": [
            "Downloading data from https://storage.googleapis.com/tensorflow/tf-keras-datasets/imdb.npz\n",
            "\u001b[1m17464789/17464789\u001b[0m \u001b[32m━━━━━━━━━━━━━━━━━━━━\u001b[0m\u001b[37m\u001b[0m \u001b[1m0s\u001b[0m 0us/step\n",
            "Downloading data from https://storage.googleapis.com/tensorflow/tf-keras-datasets/imdb_word_index.json\n",
            "\u001b[1m1641221/1641221\u001b[0m \u001b[32m━━━━━━━━━━━━━━━━━━━━\u001b[0m\u001b[37m\u001b[0m \u001b[1m0s\u001b[0m 0us/step\n",
            "Epoch 1/2\n"
          ]
        },
        {
          "output_type": "stream",
          "name": "stderr",
          "text": [
            "/usr/local/lib/python3.12/dist-packages/keras/src/layers/core/embedding.py:97: UserWarning: Argument `input_length` is deprecated. Just remove it.\n",
            "  warnings.warn(\n"
          ]
        },
        {
          "output_type": "stream",
          "name": "stdout",
          "text": [
            "\u001b[1m157/157\u001b[0m \u001b[32m━━━━━━━━━━━━━━━━━━━━\u001b[0m\u001b[37m\u001b[0m \u001b[1m357s\u001b[0m 2s/step - accuracy: 0.6756 - loss: 0.5714 - val_accuracy: 0.8452 - val_loss: 0.3799\n",
            "Epoch 2/2\n",
            "\u001b[1m157/157\u001b[0m \u001b[32m━━━━━━━━━━━━━━━━━━━━\u001b[0m\u001b[37m\u001b[0m \u001b[1m345s\u001b[0m 2s/step - accuracy: 0.8832 - loss: 0.2988 - val_accuracy: 0.8684 - val_loss: 0.3171\n",
            "\u001b[1m196/196\u001b[0m \u001b[32m━━━━━━━━━━━━━━━━━━━━\u001b[0m\u001b[37m\u001b[0m \u001b[1m111s\u001b[0m 567ms/step\n",
            "\n",
            "📊 Model Comparison Results:\n",
            "Logistic Regression - Accuracy: 0.8839, F1-Score: 0.8845, Inference Time: 1.07s\n",
            "BiLSTM             - Accuracy: 0.8642, F1-Score: 0.8651, Inference Time: 111.55s\n"
          ]
        }
      ],
      "source": [
        "import numpy as np\n",
        "import tensorflow as tf\n",
        "from tensorflow.keras.datasets import imdb\n",
        "from tensorflow.keras.preprocessing.sequence import pad_sequences\n",
        "from tensorflow.keras.models import Sequential\n",
        "from tensorflow.keras.layers import Embedding, LSTM, Bidirectional, Dense\n",
        "from sklearn.linear_model import LogisticRegression\n",
        "from sklearn.metrics import accuracy_score, f1_score\n",
        "from sklearn.feature_extraction.text import TfidfVectorizer\n",
        "import time\n",
        "\n",
        "# Load IMDb dataset\n",
        "NUM_WORDS = 10000\n",
        "MAXLEN = 500\n",
        "\n",
        "(X_train, y_train), (X_test, y_test) = imdb.load_data(num_words=NUM_WORDS)\n",
        "\n",
        "# Decode to text for traditional model\n",
        "word_index = imdb.get_word_index()\n",
        "index_word = {v + 3: k for k, v in word_index.items()}\n",
        "index_word[0] = '<PAD>'\n",
        "index_word[1] = '<START>'\n",
        "index_word[2] = '<UNK>'\n",
        "index_word[3] = '<UNUSED>'\n",
        "\n",
        "def decode_review(text_ids):\n",
        "    return ' '.join([index_word.get(i, '?') for i in text_ids])\n",
        "\n",
        "X_train_text = [decode_review(x) for x in X_train]\n",
        "X_test_text = [decode_review(x) for x in X_test]\n",
        "\n",
        "# TF-IDF for traditional model\n",
        "tfidf_vectorizer = TfidfVectorizer(max_features=20000)\n",
        "X_train_tfidf = tfidf_vectorizer.fit_transform(X_train_text)\n",
        "X_test_tfidf = tfidf_vectorizer.transform(X_test_text)\n",
        "\n",
        "# Logistic Regression Model\n",
        "start_lr = time.time()\n",
        "lr_model = LogisticRegression(max_iter=1000)\n",
        "lr_model.fit(X_train_tfidf, y_train)\n",
        "lr_pred = lr_model.predict(X_test_tfidf)\n",
        "end_lr = time.time()\n",
        "\n",
        "# Evaluation for Logistic Regression\n",
        "lr_accuracy = accuracy_score(y_test, lr_pred)\n",
        "lr_f1 = f1_score(y_test, lr_pred)\n",
        "\n",
        "# Deep Learning (BiLSTM)\n",
        "X_train_dl = pad_sequences(X_train, maxlen=MAXLEN)\n",
        "X_test_dl = pad_sequences(X_test, maxlen=MAXLEN)\n",
        "\n",
        "model = Sequential()\n",
        "model.add(Embedding(input_dim=NUM_WORDS, output_dim=128, input_length=MAXLEN))\n",
        "model.add(Bidirectional(LSTM(64)))\n",
        "model.add(Dense(1, activation='sigmoid'))\n",
        "\n",
        "model.compile(loss='binary_crossentropy', optimizer='adam', metrics=['accuracy'])\n",
        "\n",
        "start_dl_train = time.time()\n",
        "model.fit(X_train_dl, y_train, epochs=2, batch_size=128, validation_split=0.2)\n",
        "end_dl_train = time.time()\n",
        "\n",
        "# Inference timing\n",
        "start_dl = time.time()\n",
        "dl_pred_prob = model.predict(X_test_dl, batch_size=128)\n",
        "dl_pred = (dl_pred_prob > 0.5).astype(\"int32\")\n",
        "end_dl = time.time()\n",
        "\n",
        "# Evaluation for BiLSTM\n",
        "dl_accuracy = accuracy_score(y_test, dl_pred)\n",
        "dl_f1 = f1_score(y_test, dl_pred)\n",
        "\n",
        "# Summary\n",
        "print(\"\\n📊 Model Comparison Results:\")\n",
        "print(f\"Logistic Regression - Accuracy: {lr_accuracy:.4f}, F1-Score: {lr_f1:.4f}, Inference Time: {end_lr - start_lr:.2f}s\")\n",
        "print(f\"BiLSTM             - Accuracy: {dl_accuracy:.4f}, F1-Score: {dl_f1:.4f}, Inference Time: {end_dl - start_dl:.2f}s\")"
      ]
    }
  ]
}